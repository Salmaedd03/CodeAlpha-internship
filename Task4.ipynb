{
 "cells": [
  {
   "cell_type": "markdown",
   "id": "52080ca6",
   "metadata": {},
   "source": [
    "# Task4 A/B Testing Analysis"
   ]
  },
  {
   "cell_type": "markdown",
   "id": "dbc7a4dd",
   "metadata": {},
   "source": [
    "# Import the Data"
   ]
  },
  {
   "cell_type": "code",
   "execution_count": 5,
   "id": "6a38be05",
   "metadata": {},
   "outputs": [],
   "source": [
    "import numpy as np\n",
    "import pandas as pd\n",
    "import datetime as dt\n",
    "import matplotlib.pyplot as plt\n",
    "import seaborn as sns\n",
    "import statsmodels.stats.api as sms\n",
    "from scipy.stats import ttest_1samp, shapiro, levene, ttest_ind, mannwhitneyu, \\\n",
    "    pearsonr, spearmanr, kendalltau, f_oneway, kruskal\n",
    "from statsmodels.stats.proportion import proportions_ztest\n",
    "import warnings\n",
    "from sklearn.exceptions import ConvergenceWarning\n",
    "\n",
    "warnings.filterwarnings(\"ignore\")\n",
    "warnings.filterwarnings(\"ignore\", category=ConvergenceWarning)\n",
    "warnings.filterwarnings(\"ignore\", category=UserWarning)\n",
    "\n",
    "pd.set_option('display.max_columns', None)\n",
    "pd.set_option('display.max_rows', None)\n",
    "pd.set_option('display.float_format', lambda x: '%.4f' % x)"
   ]
  },
  {
   "cell_type": "markdown",
   "id": "2116c8ca",
   "metadata": {},
   "source": [
    "# Load and Analyse Data"
   ]
  },
  {
   "cell_type": "code",
   "execution_count": 7,
   "id": "0111f3e5",
   "metadata": {},
   "outputs": [
    {
     "data": {
      "text/html": [
       "<div>\n",
       "<style scoped>\n",
       "    .dataframe tbody tr th:only-of-type {\n",
       "        vertical-align: middle;\n",
       "    }\n",
       "\n",
       "    .dataframe tbody tr th {\n",
       "        vertical-align: top;\n",
       "    }\n",
       "\n",
       "    .dataframe thead th {\n",
       "        text-align: right;\n",
       "    }\n",
       "</style>\n",
       "<table border=\"1\" class=\"dataframe\">\n",
       "  <thead>\n",
       "    <tr style=\"text-align: right;\">\n",
       "      <th></th>\n",
       "      <th>userid</th>\n",
       "      <th>version</th>\n",
       "      <th>sum_gamerounds</th>\n",
       "      <th>retention_1</th>\n",
       "      <th>retention_7</th>\n",
       "    </tr>\n",
       "  </thead>\n",
       "  <tbody>\n",
       "    <tr>\n",
       "      <th>0</th>\n",
       "      <td>116</td>\n",
       "      <td>gate_30</td>\n",
       "      <td>3</td>\n",
       "      <td>False</td>\n",
       "      <td>False</td>\n",
       "    </tr>\n",
       "    <tr>\n",
       "      <th>1</th>\n",
       "      <td>337</td>\n",
       "      <td>gate_30</td>\n",
       "      <td>38</td>\n",
       "      <td>True</td>\n",
       "      <td>False</td>\n",
       "    </tr>\n",
       "    <tr>\n",
       "      <th>2</th>\n",
       "      <td>377</td>\n",
       "      <td>gate_40</td>\n",
       "      <td>165</td>\n",
       "      <td>True</td>\n",
       "      <td>False</td>\n",
       "    </tr>\n",
       "    <tr>\n",
       "      <th>3</th>\n",
       "      <td>483</td>\n",
       "      <td>gate_40</td>\n",
       "      <td>1</td>\n",
       "      <td>False</td>\n",
       "      <td>False</td>\n",
       "    </tr>\n",
       "    <tr>\n",
       "      <th>4</th>\n",
       "      <td>488</td>\n",
       "      <td>gate_40</td>\n",
       "      <td>179</td>\n",
       "      <td>True</td>\n",
       "      <td>True</td>\n",
       "    </tr>\n",
       "  </tbody>\n",
       "</table>\n",
       "</div>"
      ],
      "text/plain": [
       "   userid  version  sum_gamerounds  retention_1  retention_7\n",
       "0     116  gate_30               3        False        False\n",
       "1     337  gate_30              38         True        False\n",
       "2     377  gate_40             165         True        False\n",
       "3     483  gate_40               1        False        False\n",
       "4     488  gate_40             179         True         True"
      ]
     },
     "execution_count": 7,
     "metadata": {},
     "output_type": "execute_result"
    }
   ],
   "source": [
    "df=pd.read_csv(\"C://Users//Anwender//Desktop//CodeAlpha//cookie_cats.csv\")\n",
    "df.head()"
   ]
  },
  {
   "cell_type": "code",
   "execution_count": 8,
   "id": "3e685bbc",
   "metadata": {},
   "outputs": [
    {
     "name": "stdout",
     "output_type": "stream",
     "text": [
      "##################### Shape #####################\n",
      "(90189, 5)\n",
      "##################### Types #####################\n",
      "userid             int64\n",
      "version           object\n",
      "sum_gamerounds     int64\n",
      "retention_1         bool\n",
      "retention_7         bool\n",
      "dtype: object\n",
      "##################### NA #####################\n",
      "userid            0\n",
      "version           0\n",
      "sum_gamerounds    0\n",
      "retention_1       0\n",
      "retention_7       0\n",
      "dtype: int64\n",
      "##################### info #####################\n",
      "<class 'pandas.core.frame.DataFrame'>\n",
      "RangeIndex: 90189 entries, 0 to 90188\n",
      "Data columns (total 5 columns):\n",
      " #   Column          Non-Null Count  Dtype \n",
      "---  ------          --------------  ----- \n",
      " 0   userid          90189 non-null  int64 \n",
      " 1   version         90189 non-null  object\n",
      " 2   sum_gamerounds  90189 non-null  int64 \n",
      " 3   retention_1     90189 non-null  bool  \n",
      " 4   retention_7     90189 non-null  bool  \n",
      "dtypes: bool(2), int64(2), object(1)\n",
      "memory usage: 2.2+ MB\n",
      "None\n"
     ]
    }
   ],
   "source": [
    "def check_df(dataframe, head=5):\n",
    "    print(\"##################### Shape #####################\")\n",
    "    print(dataframe.shape)\n",
    "    print(\"##################### Types #####################\")\n",
    "    print(dataframe.dtypes)\n",
    "    print(\"##################### NA #####################\")\n",
    "    print(dataframe.isnull().sum())\n",
    "    print(\"##################### info #####################\")\n",
    "    print(dataframe.info())\n",
    "\n",
    "check_df(df)"
   ]
  },
  {
   "cell_type": "code",
   "execution_count": 9,
   "id": "55586ce4",
   "metadata": {},
   "outputs": [
    {
     "data": {
      "text/plain": [
       "90189"
      ]
     },
     "execution_count": 9,
     "metadata": {},
     "output_type": "execute_result"
    }
   ],
   "source": [
    "df[\"userid\"].nunique() # There is no multiplexing of players."
   ]
  },
  {
   "cell_type": "code",
   "execution_count": 10,
   "id": "1a234a3b",
   "metadata": {},
   "outputs": [
    {
     "data": {
      "text/html": [
       "<div>\n",
       "<style scoped>\n",
       "    .dataframe tbody tr th:only-of-type {\n",
       "        vertical-align: middle;\n",
       "    }\n",
       "\n",
       "    .dataframe tbody tr th {\n",
       "        vertical-align: top;\n",
       "    }\n",
       "\n",
       "    .dataframe thead tr th {\n",
       "        text-align: left;\n",
       "    }\n",
       "\n",
       "    .dataframe thead tr:last-of-type th {\n",
       "        text-align: right;\n",
       "    }\n",
       "</style>\n",
       "<table border=\"1\" class=\"dataframe\">\n",
       "  <thead>\n",
       "    <tr>\n",
       "      <th></th>\n",
       "      <th colspan=\"5\" halign=\"left\">sum_gamerounds</th>\n",
       "    </tr>\n",
       "    <tr>\n",
       "      <th></th>\n",
       "      <th>count</th>\n",
       "      <th>sum</th>\n",
       "      <th>mean</th>\n",
       "      <th>min</th>\n",
       "      <th>max</th>\n",
       "    </tr>\n",
       "    <tr>\n",
       "      <th>version</th>\n",
       "      <th></th>\n",
       "      <th></th>\n",
       "      <th></th>\n",
       "      <th></th>\n",
       "      <th></th>\n",
       "    </tr>\n",
       "  </thead>\n",
       "  <tbody>\n",
       "    <tr>\n",
       "      <th>gate_30</th>\n",
       "      <td>44700</td>\n",
       "      <td>2344795</td>\n",
       "      <td>52.4563</td>\n",
       "      <td>0</td>\n",
       "      <td>49854</td>\n",
       "    </tr>\n",
       "    <tr>\n",
       "      <th>gate_40</th>\n",
       "      <td>45489</td>\n",
       "      <td>2333530</td>\n",
       "      <td>51.2988</td>\n",
       "      <td>0</td>\n",
       "      <td>2640</td>\n",
       "    </tr>\n",
       "  </tbody>\n",
       "</table>\n",
       "</div>"
      ],
      "text/plain": [
       "        sum_gamerounds                            \n",
       "                 count      sum    mean min    max\n",
       "version                                           \n",
       "gate_30          44700  2344795 52.4563   0  49854\n",
       "gate_40          45489  2333530 51.2988   0   2640"
      ]
     },
     "execution_count": 10,
     "metadata": {},
     "output_type": "execute_result"
    }
   ],
   "source": [
    "df.groupby(\"version\").agg({\"sum_gamerounds\":[\"count\",\"sum\",\"mean\",\"min\",\"max\"]})"
   ]
  },
  {
   "cell_type": "code",
   "execution_count": 11,
   "id": "ba2a940a",
   "metadata": {},
   "outputs": [
    {
     "data": {
      "text/html": [
       "<div>\n",
       "<style scoped>\n",
       "    .dataframe tbody tr th:only-of-type {\n",
       "        vertical-align: middle;\n",
       "    }\n",
       "\n",
       "    .dataframe tbody tr th {\n",
       "        vertical-align: top;\n",
       "    }\n",
       "\n",
       "    .dataframe thead tr th {\n",
       "        text-align: left;\n",
       "    }\n",
       "\n",
       "    .dataframe thead tr:last-of-type th {\n",
       "        text-align: right;\n",
       "    }\n",
       "</style>\n",
       "<table border=\"1\" class=\"dataframe\">\n",
       "  <thead>\n",
       "    <tr>\n",
       "      <th></th>\n",
       "      <th>version</th>\n",
       "      <th colspan=\"2\" halign=\"left\">retention_1</th>\n",
       "      <th colspan=\"2\" halign=\"left\">retention_7</th>\n",
       "    </tr>\n",
       "    <tr>\n",
       "      <th></th>\n",
       "      <th>count</th>\n",
       "      <th>sum</th>\n",
       "      <th>mean</th>\n",
       "      <th>sum</th>\n",
       "      <th>mean</th>\n",
       "    </tr>\n",
       "    <tr>\n",
       "      <th>version</th>\n",
       "      <th></th>\n",
       "      <th></th>\n",
       "      <th></th>\n",
       "      <th></th>\n",
       "      <th></th>\n",
       "    </tr>\n",
       "  </thead>\n",
       "  <tbody>\n",
       "    <tr>\n",
       "      <th>gate_30</th>\n",
       "      <td>44700</td>\n",
       "      <td>20034</td>\n",
       "      <td>0.4482</td>\n",
       "      <td>8502</td>\n",
       "      <td>0.1902</td>\n",
       "    </tr>\n",
       "    <tr>\n",
       "      <th>gate_40</th>\n",
       "      <td>45489</td>\n",
       "      <td>20119</td>\n",
       "      <td>0.4423</td>\n",
       "      <td>8279</td>\n",
       "      <td>0.1820</td>\n",
       "    </tr>\n",
       "  </tbody>\n",
       "</table>\n",
       "</div>"
      ],
      "text/plain": [
       "        version retention_1        retention_7       \n",
       "          count         sum   mean         sum   mean\n",
       "version                                              \n",
       "gate_30   44700       20034 0.4482        8502 0.1902\n",
       "gate_40   45489       20119 0.4423        8279 0.1820"
      ]
     },
     "execution_count": 11,
     "metadata": {},
     "output_type": "execute_result"
    }
   ],
   "source": [
    "df.groupby(\"version\").agg({\"version\":\"count\",\n",
    "                           \"retention_1\":[\"sum\",\"mean\"],\n",
    "                           \"retention_7\":[\"sum\",\"mean\"]})\n",
    "\n",
    "# When we examine the average and total values of people who played after 1 day and within 7 days, we still see similar rates."
   ]
  },
  {
   "cell_type": "code",
   "execution_count": 12,
   "id": "86e89bfd",
   "metadata": {},
   "outputs": [
    {
     "data": {
      "text/html": [
       "<div>\n",
       "<style scoped>\n",
       "    .dataframe tbody tr th:only-of-type {\n",
       "        vertical-align: middle;\n",
       "    }\n",
       "\n",
       "    .dataframe tbody tr th {\n",
       "        vertical-align: top;\n",
       "    }\n",
       "\n",
       "    .dataframe thead tr th {\n",
       "        text-align: left;\n",
       "    }\n",
       "\n",
       "    .dataframe thead tr:last-of-type th {\n",
       "        text-align: right;\n",
       "    }\n",
       "</style>\n",
       "<table border=\"1\" class=\"dataframe\">\n",
       "  <thead>\n",
       "    <tr>\n",
       "      <th></th>\n",
       "      <th></th>\n",
       "      <th></th>\n",
       "      <th colspan=\"2\" halign=\"left\">sum_gamerounds</th>\n",
       "    </tr>\n",
       "    <tr>\n",
       "      <th></th>\n",
       "      <th></th>\n",
       "      <th></th>\n",
       "      <th>sum</th>\n",
       "      <th>mean</th>\n",
       "    </tr>\n",
       "    <tr>\n",
       "      <th>version</th>\n",
       "      <th>retention_1</th>\n",
       "      <th>retention_7</th>\n",
       "      <th></th>\n",
       "      <th></th>\n",
       "    </tr>\n",
       "  </thead>\n",
       "  <tbody>\n",
       "    <tr>\n",
       "      <th rowspan=\"4\" valign=\"top\">gate_30</th>\n",
       "      <th rowspan=\"2\" valign=\"top\">False</th>\n",
       "      <th>False</th>\n",
       "      <td>269963</td>\n",
       "      <td>11.8197</td>\n",
       "    </tr>\n",
       "    <tr>\n",
       "      <th>True</th>\n",
       "      <td>183388</td>\n",
       "      <td>100.4315</td>\n",
       "    </tr>\n",
       "    <tr>\n",
       "      <th rowspan=\"2\" valign=\"top\">True</th>\n",
       "      <th>False</th>\n",
       "      <td>663819</td>\n",
       "      <td>49.6945</td>\n",
       "    </tr>\n",
       "    <tr>\n",
       "      <th>True</th>\n",
       "      <td>1227625</td>\n",
       "      <td>183.8863</td>\n",
       "    </tr>\n",
       "    <tr>\n",
       "      <th rowspan=\"4\" valign=\"top\">gate_40</th>\n",
       "      <th rowspan=\"2\" valign=\"top\">False</th>\n",
       "      <th>False</th>\n",
       "      <td>281118</td>\n",
       "      <td>11.9133</td>\n",
       "    </tr>\n",
       "    <tr>\n",
       "      <th>True</th>\n",
       "      <td>133438</td>\n",
       "      <td>75.2611</td>\n",
       "    </tr>\n",
       "    <tr>\n",
       "      <th rowspan=\"2\" valign=\"top\">True</th>\n",
       "      <th>False</th>\n",
       "      <td>680997</td>\n",
       "      <td>50.0255</td>\n",
       "    </tr>\n",
       "    <tr>\n",
       "      <th>True</th>\n",
       "      <td>1237977</td>\n",
       "      <td>190.2824</td>\n",
       "    </tr>\n",
       "  </tbody>\n",
       "</table>\n",
       "</div>"
      ],
      "text/plain": [
       "                                sum_gamerounds         \n",
       "                                           sum     mean\n",
       "version retention_1 retention_7                        \n",
       "gate_30 False       False               269963  11.8197\n",
       "                    True                183388 100.4315\n",
       "        True        False               663819  49.6945\n",
       "                    True               1227625 183.8863\n",
       "gate_40 False       False               281118  11.9133\n",
       "                    True                133438  75.2611\n",
       "        True        False               680997  50.0255\n",
       "                    True               1237977 190.2824"
      ]
     },
     "execution_count": 12,
     "metadata": {},
     "output_type": "execute_result"
    }
   ],
   "source": [
    "df.groupby([\"version\",\"retention_1\",\"retention_7\"]).agg({\"sum_gamerounds\":[\"sum\",\"mean\"]})"
   ]
  },
  {
   "cell_type": "code",
   "execution_count": 13,
   "id": "3c1bde37",
   "metadata": {},
   "outputs": [
    {
     "data": {
      "text/plain": [
       "0.5148854073113129"
      ]
     },
     "execution_count": 13,
     "metadata": {},
     "output_type": "execute_result"
    }
   ],
   "source": [
    "left_people=df.loc[(df[\"retention_1\"]==False) & (df[\"retention_7\"]== False)]\n",
    "left_people.shape[0]/df.shape[0]\n",
    "\n",
    "# It shows rate of the people who only played the game on the first day and quit. This means almost half of the player has gone on the first day."
   ]
  },
  {
   "cell_type": "code",
   "execution_count": 14,
   "id": "22d1b8f9",
   "metadata": {},
   "outputs": [
    {
     "data": {
      "text/html": [
       "<div>\n",
       "<style scoped>\n",
       "    .dataframe tbody tr th:only-of-type {\n",
       "        vertical-align: middle;\n",
       "    }\n",
       "\n",
       "    .dataframe tbody tr th {\n",
       "        vertical-align: top;\n",
       "    }\n",
       "\n",
       "    .dataframe thead tr th {\n",
       "        text-align: left;\n",
       "    }\n",
       "\n",
       "    .dataframe thead tr:last-of-type th {\n",
       "        text-align: right;\n",
       "    }\n",
       "</style>\n",
       "<table border=\"1\" class=\"dataframe\">\n",
       "  <thead>\n",
       "    <tr>\n",
       "      <th></th>\n",
       "      <th colspan=\"3\" halign=\"left\">sum_gamerounds</th>\n",
       "    </tr>\n",
       "    <tr>\n",
       "      <th></th>\n",
       "      <th>count</th>\n",
       "      <th>sum</th>\n",
       "      <th>mean</th>\n",
       "    </tr>\n",
       "    <tr>\n",
       "      <th>version</th>\n",
       "      <th></th>\n",
       "      <th></th>\n",
       "      <th></th>\n",
       "    </tr>\n",
       "  </thead>\n",
       "  <tbody>\n",
       "    <tr>\n",
       "      <th>gate_30</th>\n",
       "      <td>22840</td>\n",
       "      <td>269963</td>\n",
       "      <td>11.8197</td>\n",
       "    </tr>\n",
       "    <tr>\n",
       "      <th>gate_40</th>\n",
       "      <td>23597</td>\n",
       "      <td>281118</td>\n",
       "      <td>11.9133</td>\n",
       "    </tr>\n",
       "  </tbody>\n",
       "</table>\n",
       "</div>"
      ],
      "text/plain": [
       "        sum_gamerounds                \n",
       "                 count     sum    mean\n",
       "version                               \n",
       "gate_30          22840  269963 11.8197\n",
       "gate_40          23597  281118 11.9133"
      ]
     },
     "execution_count": 14,
     "metadata": {},
     "output_type": "execute_result"
    }
   ],
   "source": [
    "left_people.groupby(\"version\").agg({\"sum_gamerounds\":[\"count\",\"sum\",\"mean\"]})"
   ]
  },
  {
   "cell_type": "code",
   "execution_count": 15,
   "id": "04f7976e",
   "metadata": {},
   "outputs": [
    {
     "data": {
      "text/html": [
       "<div>\n",
       "<style scoped>\n",
       "    .dataframe tbody tr th:only-of-type {\n",
       "        vertical-align: middle;\n",
       "    }\n",
       "\n",
       "    .dataframe tbody tr th {\n",
       "        vertical-align: top;\n",
       "    }\n",
       "\n",
       "    .dataframe thead th {\n",
       "        text-align: right;\n",
       "    }\n",
       "</style>\n",
       "<table border=\"1\" class=\"dataframe\">\n",
       "  <thead>\n",
       "    <tr style=\"text-align: right;\">\n",
       "      <th></th>\n",
       "      <th>gate_30_ratio</th>\n",
       "      <th>gate_40_ratio</th>\n",
       "    </tr>\n",
       "  </thead>\n",
       "  <tbody>\n",
       "    <tr>\n",
       "      <th>0</th>\n",
       "      <td>0.4918</td>\n",
       "      <td>0.5082</td>\n",
       "    </tr>\n",
       "  </tbody>\n",
       "</table>\n",
       "</div>"
      ],
      "text/plain": [
       "   gate_30_ratio  gate_40_ratio\n",
       "0         0.4918         0.5082"
      ]
     },
     "execution_count": 15,
     "metadata": {},
     "output_type": "execute_result"
    }
   ],
   "source": [
    "result_df = pd.DataFrame({\n",
    "    \"gate_30_ratio\": [(left_people[\"version\"]==\"gate_30\").sum()/len(left_people)],\n",
    "    \"gate_40_ratio\": [(left_people[\"version\"]==\"gate_40\").sum()/len(left_people)]\n",
    "})\n",
    "result_df"
   ]
  },
  {
   "cell_type": "code",
   "execution_count": 16,
   "id": "042c00e8",
   "metadata": {},
   "outputs": [
    {
     "data": {
      "text/html": [
       "<div>\n",
       "<style scoped>\n",
       "    .dataframe tbody tr th:only-of-type {\n",
       "        vertical-align: middle;\n",
       "    }\n",
       "\n",
       "    .dataframe tbody tr th {\n",
       "        vertical-align: top;\n",
       "    }\n",
       "\n",
       "    .dataframe thead th {\n",
       "        text-align: right;\n",
       "    }\n",
       "</style>\n",
       "<table border=\"1\" class=\"dataframe\">\n",
       "  <thead>\n",
       "    <tr style=\"text-align: right;\">\n",
       "      <th></th>\n",
       "      <th>retention_1</th>\n",
       "      <th>retention_1_ratio</th>\n",
       "      <th>retention_7</th>\n",
       "      <th>retention_7_ratio</th>\n",
       "    </tr>\n",
       "  </thead>\n",
       "  <tbody>\n",
       "    <tr>\n",
       "      <th>False</th>\n",
       "      <td>50036</td>\n",
       "      <td>0.5548</td>\n",
       "      <td>73408</td>\n",
       "      <td>0.8139</td>\n",
       "    </tr>\n",
       "    <tr>\n",
       "      <th>True</th>\n",
       "      <td>40153</td>\n",
       "      <td>0.4452</td>\n",
       "      <td>16781</td>\n",
       "      <td>0.1861</td>\n",
       "    </tr>\n",
       "  </tbody>\n",
       "</table>\n",
       "</div>"
      ],
      "text/plain": [
       "       retention_1  retention_1_ratio  retention_7  retention_7_ratio\n",
       "False        50036             0.5548        73408             0.8139\n",
       "True         40153             0.4452        16781             0.1861"
      ]
     },
     "execution_count": 16,
     "metadata": {},
     "output_type": "execute_result"
    }
   ],
   "source": [
    "# lets look at which retention has highest raito  \n",
    "new=pd.DataFrame({\"retention_1\": df[\"retention_1\"].value_counts(),\n",
    "                 \"retention_1_ratio\":df[\"retention_1\"].value_counts() /len(df),\n",
    "                 \"retention_7\": df[\"retention_7\"].value_counts(),\n",
    "                 \"retention_7_ratio\": df[\"retention_7\"].value_counts()/ len(df)})\n",
    "new \n",
    "# The rate of not entering the game in 7 days is higher than in 1 day"
   ]
  },
  {
   "cell_type": "code",
   "execution_count": 17,
   "id": "2a6bf037",
   "metadata": {},
   "outputs": [
    {
     "data": {
      "text/plain": [
       "count   90189.0000\n",
       "mean       51.8725\n",
       "std       195.0509\n",
       "min         0.0000\n",
       "5%          1.0000\n",
       "10%         1.0000\n",
       "20%         3.0000\n",
       "30%         6.0000\n",
       "40%        11.0000\n",
       "50%        16.0000\n",
       "60%        25.0000\n",
       "70%        40.0000\n",
       "80%        67.0000\n",
       "90%       134.0000\n",
       "95%       221.0000\n",
       "99%       493.0000\n",
       "max     49854.0000\n",
       "Name: sum_gamerounds, dtype: float64"
      ]
     },
     "execution_count": 17,
     "metadata": {},
     "output_type": "execute_result"
    }
   ],
   "source": [
    "quantiles = [0.05, 0.10, 0.20, 0.30, 0.40, 0.50, 0.60, 0.70, 0.80, 0.90, 0.95, 0.99]\n",
    "df[\"sum_gamerounds\"].describe(quantiles).T\n",
    "# as we can see here there is a outleir in the sum_gamerounds"
   ]
  },
  {
   "cell_type": "code",
   "execution_count": 18,
   "id": "57a269c2",
   "metadata": {},
   "outputs": [
    {
     "data": {
      "image/png": "[encoded data removed]",
      "text/plain": [
       "<Figure size 640x480 with 1 Axes>"
      ]
     },
     "metadata": {},
     "output_type": "display_data"
    }
   ],
   "source": [
    "sns.boxplot(x = df.version, y = df.sum_gamerounds)\n",
    "plt.show()"
   ]
  },
  {
   "cell_type": "code",
   "execution_count": 19,
   "id": "e1d4b6ea",
   "metadata": {},
   "outputs": [
    {
     "data": {
      "text/plain": [
       "(-739.5, 1232.5)"
      ]
     },
     "execution_count": 19,
     "metadata": {},
     "output_type": "execute_result"
    }
   ],
   "source": [
    "# let determine the low_limit and up_limit\n",
    "def outlier_thresholds(dataframe, variable):\n",
    "    quartile1 = dataframe[variable].quantile(0.01)\n",
    "    quartile3 = dataframe[variable].quantile(0.99)\n",
    "    interquantile_range = quartile3 - quartile1\n",
    "    up_limit = quartile3 + 1.5 * interquantile_range\n",
    "    low_limit = quartile1 - 1.5 * interquantile_range\n",
    "    return low_limit, up_limit\n",
    "\n",
    "outlier_thresholds(df,\"sum_gamerounds\")"
   ]
  },
  {
   "cell_type": "code",
   "execution_count": 20,
   "id": "1ac970bc",
   "metadata": {},
   "outputs": [],
   "source": [
    "# Let's use the suppression method for outliers\n",
    "def replace_with_thresholds(dataframe, variable):\n",
    "    low_limit, up_limit = outlier_thresholds(dataframe, variable)\n",
    "    dataframe.loc[(dataframe[variable] < low_limit), variable] = low_limit\n",
    "    dataframe.loc[(dataframe[variable] > up_limit), variable] = up_limit\n",
    "\n",
    "replace_with_thresholds(df,\"sum_gamerounds\")"
   ]
  },
  {
   "cell_type": "code",
   "execution_count": 21,
   "id": "460e56a6",
   "metadata": {},
   "outputs": [
    {
     "data": {
      "image/png": "[encoded data removed]",
      "text/plain": [
       "<Figure size 640x480 with 1 Axes>"
      ]
     },
     "metadata": {},
     "output_type": "display_data"
    }
   ],
   "source": [
    "sns.boxplot(x = df.version, y = df.sum_gamerounds)\n",
    "plt.show()"
   ]
  },
  {
   "cell_type": "code",
   "execution_count": 22,
   "id": "a729d4e0",
   "metadata": {},
   "outputs": [
    {
     "data": {
      "text/html": [
       "<div>\n",
       "<style scoped>\n",
       "    .dataframe tbody tr th:only-of-type {\n",
       "        vertical-align: middle;\n",
       "    }\n",
       "\n",
       "    .dataframe tbody tr th {\n",
       "        vertical-align: top;\n",
       "    }\n",
       "\n",
       "    .dataframe thead th {\n",
       "        text-align: right;\n",
       "    }\n",
       "</style>\n",
       "<table border=\"1\" class=\"dataframe\">\n",
       "  <thead>\n",
       "    <tr style=\"text-align: right;\">\n",
       "      <th></th>\n",
       "      <th>sum_gamerounds</th>\n",
       "    </tr>\n",
       "    <tr>\n",
       "      <th>version</th>\n",
       "      <th></th>\n",
       "    </tr>\n",
       "  </thead>\n",
       "  <tbody>\n",
       "    <tr>\n",
       "      <th>gate_30</th>\n",
       "      <td>51.1534</td>\n",
       "    </tr>\n",
       "    <tr>\n",
       "      <th>gate_40</th>\n",
       "      <td>51.0658</td>\n",
       "    </tr>\n",
       "  </tbody>\n",
       "</table>\n",
       "</div>"
      ],
      "text/plain": [
       "         sum_gamerounds\n",
       "version                \n",
       "gate_30         51.1534\n",
       "gate_40         51.0658"
      ]
     },
     "execution_count": 22,
     "metadata": {},
     "output_type": "execute_result"
    }
   ],
   "source": [
    "df.groupby(\"version\").agg({\"sum_gamerounds\":\"mean\"})\n",
    "# it seems similar but let's implement the A-B testing"
   ]
  },
  {
   "cell_type": "code",
   "execution_count": 23,
   "id": "6aa727c0",
   "metadata": {},
   "outputs": [],
   "source": [
    "# Let's apply it one by one, then I will add the whole function"
   ]
  },
  {
   "cell_type": "code",
   "execution_count": 24,
   "id": "a4d6f91d",
   "metadata": {},
   "outputs": [],
   "source": [
    "# 1. Establish Hypothesis:\n",
    "# Is there a statistical difference between gate_30 and gate_40 playing games?\n",
    "# Ho: M1=M2 (no difference between them)\n",
    "# H1= M1!=M2 (there is a difference between them)"
   ]
  },
  {
   "cell_type": "code",
   "execution_count": 25,
   "id": "b66ba655",
   "metadata": {},
   "outputs": [],
   "source": [
    "# 1. Normality\n",
    "\n",
    "# H0: Normal distribution assumption is met.\n",
    "# H1:..not provided.\n",
    "\n",
    "# HO RED if p-value < 0.05.\n",
    "# If p-value is not < 0.05 H0 CANNOT BE REJECTED."
   ]
  },
  {
   "cell_type": "code",
   "execution_count": 26,
   "id": "b87e035a",
   "metadata": {},
   "outputs": [
    {
     "name": "stdout",
     "output_type": "stream",
     "text": [
      "Test Stat = 0.5104, p-value = 0.0000\n"
     ]
    }
   ],
   "source": [
    "test_stat, pvalue = shapiro(df.loc[df[\"version\"] == \"gate_30\", \"sum_gamerounds\"])\n",
    "print('Test Stat = %.4f, p-value = %.4f' % (test_stat, pvalue))\n",
    "# p value less than 0.05"
   ]
  },
  {
   "cell_type": "code",
   "execution_count": 27,
   "id": "29a3fac8",
   "metadata": {},
   "outputs": [
    {
     "name": "stdout",
     "output_type": "stream",
     "text": [
      "Test Stat = 0.5044, p-value = 0.0000\n"
     ]
    }
   ],
   "source": [
    "test_stat, pvalue = shapiro(df.loc[df[\"version\"] == \"gate_40\", \"sum_gamerounds\"])\n",
    "print('Test Stat = %.4f, p-value = %.4f' % (test_stat, pvalue))\n",
    "# since p-value is less than 0.05 , we are gonna reject Ho , so  Normal distribution assumption is not provided."
   ]
  },
  {
   "cell_type": "code",
   "execution_count": 28,
   "id": "d48a0fbc",
   "metadata": {},
   "outputs": [
    {
     "name": "stdout",
     "output_type": "stream",
     "text": [
      "Test Stat = 1024331275.0000, p-value = 0.0502\n"
     ]
    }
   ],
   "source": [
    "# We can pass directly to mannwhitneyu test (non-parametric test)\n",
    "test_stat, pvalue = mannwhitneyu(df.loc[df[\"version\"] == \"gate_30\", \"sum_gamerounds\"],\n",
    "                                 df.loc[df[\"version\"] == \"gate_40\", \"sum_gamerounds\"])\n",
    "\n",
    "print('Test Stat = %.4f, p-value = %.4f' % (test_stat, pvalue)) "
   ]
  },
  {
   "cell_type": "code",
   "execution_count": 30,
   "id": "c28e5ff0",
   "metadata": {},
   "outputs": [
    {
     "ename": "IndentationError",
     "evalue": "unindent does not match any outer indentation level (<tokenize>, line 34)",
     "output_type": "error",
     "traceback": [
      "\u001b[1;36m  File \u001b[1;32m<tokenize>:34\u001b[1;36m\u001b[0m\n\u001b[1;33m    print(pvalue_ttes)\u001b[0m\n\u001b[1;37m    ^\u001b[0m\n\u001b[1;31mIndentationError\u001b[0m\u001b[1;31m:\u001b[0m unindent does not match any outer indentation level\n"
     ]
    }
   ],
   "source": [
    "# Whole Function \n",
    "\n",
    "def a_b_test(df, p_value):\n",
    "    \n",
    "    print(\"H0:There is no statistical difference between gate_30 and gate_40.\")\n",
    "    print(\"##########################################\")\n",
    "    print(\"Normality Assumption\")\n",
    "    pvalue_30 = shapiro(df.loc[df[\"version\"] == \"gate_30\", \"sum_gamerounds\"])[1]\n",
    "    pvalue_40= shapiro(df.loc[df[\"version\"] == \"gate_40\", \"sum_gamerounds\"])[1]\n",
    "\n",
    "    if  (pvalue_30 < p_value) and (pvalue_40 < p_value):\n",
    "        print(\"H0 is rejected, Normal distribution assumption is not met.\\n\")\n",
    "    else:\n",
    "         print(\"H0 cannot be rejected, normal distribution assumption is met.\\n\")\n",
    "        \n",
    "    print(\"##########################################\")\n",
    "    print(\" Variance Homogeneity Assumption.\\n\")\n",
    "\n",
    "    pvalue_levene = levene(df.loc[df[\"version\"] == \"gate_30\", \"sum_gamerounds\"],\n",
    "                               df.loc[df[\"version\"] == \"gate_40\", \"sum_gamerounds\"])[1]\n",
    "\n",
    "    if pvalue_levene < pvalue:\n",
    "      print(\"H0 is rejected, the variances are not homogeneous\\n\")\n",
    "\n",
    "    else:\n",
    "       print(pvalue_levene,\"Variances Are Homogeneous.\\n\")\n",
    "    \n",
    "    print(\"##########################################\") \n",
    "    \n",
    "    if ((pvalue_30 > pvalue) & (pvalue_40 > pvalue)) & (pvalue_levene > pvalue):\n",
    "         pvalue_ttes = ttest_ind(df.loc[df[\"version\"] == \"gate_30\"],\n",
    "                                  df.loc[df[\"version\"] == \"gate_40\"],\n",
    "                                  equal_var=True)[1]\n",
    "        print(pvalue_ttes)\n",
    "    elif ((pvalue_30 > pvalue) & (pvalue_40 > pvalue)) & (pvalue_levene < pvalue):\n",
    "        \n",
    "        pvalue_ttest = ttest_ind(df.loc[df[\"version\"] == \"gate_30\"],\n",
    "                                  df.loc[df[\"version\"] == \"gate_40\"],\n",
    "                                  equal_var=False)[1]\n",
    "        print(pvalue_ttes)\n",
    "    else:\n",
    "        print(\"Non-Parametric test should be done.\\n\")\n",
    "        pvalue_non = mannwhitneyu(df.loc[df[\"version\"] == \"gate_30\", \"sum_gamerounds\"],\n",
    "                              df.loc[df[\"version\"] == \"gate_40\", \"sum_gamerounds\"])[1]\n",
    "        print(pvalue_non)\n",
    "    print(\"################### Result #######################\") \n",
    "    if pvalue_non < pvalue:\n",
    "        print(pvalue_non,\"H0 Hypothesis is Rejected. That is, there is a statistically significant difference between them.\")\n",
    "    else:\n",
    "        print(pvalue_non, \"is not less than 0.05 . H0 is Not Rejected, That is, there is no statistically significant difference between them.\")\n",
    "a_b_test(df, 0.05)"
   ]
  },
  {
   "cell_type": "code",
   "execution_count": null,
   "id": "55460a99",
   "metadata": {},
   "outputs": [],
   "source": []
  }
 ],
 "metadata": {
  "kernelspec": {
   "display_name": "Python 3 (ipykernel)",
   "language": "python",
   "name": "python3"
  },
  "language_info": {
   "codemirror_mode": {
    "name": "ipython",
    "version": 3
   },
   "file_extension": ".py",
   "mimetype": "text/x-python",
   "name": "python",
   "nbconvert_exporter": "python",
   "pygments_lexer": "ipython3",
   "version": "3.11.5"
  }
 },
 "nbformat": 4,
 "nbformat_minor": 5
}
